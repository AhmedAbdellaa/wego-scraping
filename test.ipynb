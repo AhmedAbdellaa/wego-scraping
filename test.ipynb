{
 "cells": [
  {
   "cell_type": "code",
   "execution_count": 1,
   "metadata": {},
   "outputs": [],
   "source": [
    "from worker import random_task,setup_periodic_tasks,scrap_flights"
   ]
  },
  {
   "cell_type": "code",
   "execution_count": 14,
   "metadata": {},
   "outputs": [
    {
     "name": "stdout",
     "output_type": "stream",
     "text": [
      "who throws a showe. Honestly name\n"
     ]
    }
   ],
   "source": [
    "#here we just use normal python func not celery\n",
    "dd = {\"name\":\"mon\",\"age\":25}\n",
    "random_task(*dd)"
   ]
  },
  {
   "cell_type": "code",
   "execution_count": 15,
   "metadata": {},
   "outputs": [
    {
     "data": {
      "text/plain": [
       "<AsyncResult: 39e971cf-d4c9-4a9f-a488-d999ffb7f229>"
      ]
     },
     "execution_count": 15,
     "metadata": {},
     "output_type": "execute_result"
    }
   ],
   "source": [
    "#using celery\n",
    "random_task.delay(*dd)"
   ]
  },
  {
   "cell_type": "code",
   "execution_count": 12,
   "metadata": {},
   "outputs": [],
   "source": [
    "for i in range(10):\n",
    "    random_task.delay(f\"mo-{i}\")"
   ]
  },
  {
   "cell_type": "code",
   "execution_count": 13,
   "metadata": {},
   "outputs": [],
   "source": [
    "#wait for 10second\n",
    "for i in range(10):\n",
    "    random_task.apply_async(args = (f\"ah-{i}\",),countdown=10)"
   ]
  },
  {
   "cell_type": "code",
   "execution_count": 3,
   "metadata": {},
   "outputs": [
    {
     "ename": "TypeError",
     "evalue": "setup_periodic_tasks() missing 1 required positional argument: 'sender'",
     "output_type": "error",
     "traceback": [
      "\u001b[0;31m---------------------------------------------------------------------------\u001b[0m",
      "\u001b[0;31mTypeError\u001b[0m                                 Traceback (most recent call last)",
      "Cell \u001b[0;32mIn[3], line 1\u001b[0m\n\u001b[0;32m----> 1\u001b[0m setup_periodic_tasks()\n",
      "\u001b[0;31mTypeError\u001b[0m: setup_periodic_tasks() missing 1 required positional argument: 'sender'"
     ]
    }
   ],
   "source": [
    "setup_periodic_tasks()"
   ]
  },
  {
   "cell_type": "code",
   "execution_count": 11,
   "metadata": {},
   "outputs": [
    {
     "data": {
      "text/plain": [
       "<AsyncResult: 2b348d4e-8877-4957-ae24-432292bf6779>"
      ]
     },
     "execution_count": 11,
     "metadata": {},
     "output_type": "execute_result"
    }
   ],
   "source": [
    "scrap_flights.delay()"
   ]
  },
  {
   "cell_type": "code",
   "execution_count": 25,
   "metadata": {},
   "outputs": [
    {
     "data": {
      "text/plain": [
       "<AsyncResult: f48afeb4-5d03-4cb6-80ea-7352e5850890>"
      ]
     },
     "execution_count": 25,
     "metadata": {},
     "output_type": "execute_result"
    }
   ],
   "source": [
    "ab = {\n",
    "  \"cfrom\": \"CAI\",\n",
    "  \"cto\": \"JED\",\n",
    "  \"fdate\": \"2023-5-20\",\n",
    "  \"fclass\": \"economy\",\n",
    "  \"adult\": 1,\n",
    "  \"childs\": 0,\n",
    "  \"infants\": 0,\n",
    "  \"snflight\": 10\n",
    "}\n",
    "\n",
    "scrap_flights.delay(**ab)"
   ]
  },
  {
   "cell_type": "code",
   "execution_count": null,
   "metadata": {},
   "outputs": [],
   "source": [
    "cfrom= \"CAI\",cto= \"JED\",fdate= \"2023-5-20\",fclass= \"economy\",adult= 1,childs= 0,infants= 0,snflight= 10"
   ]
  }
 ],
 "metadata": {
  "kernelspec": {
   "display_name": "venv",
   "language": "python",
   "name": "python3"
  },
  "language_info": {
   "codemirror_mode": {
    "name": "ipython",
    "version": 3
   },
   "file_extension": ".py",
   "mimetype": "text/x-python",
   "name": "python",
   "nbconvert_exporter": "python",
   "pygments_lexer": "ipython3",
   "version": "3.8.10"
  },
  "orig_nbformat": 4
 },
 "nbformat": 4,
 "nbformat_minor": 2
}
